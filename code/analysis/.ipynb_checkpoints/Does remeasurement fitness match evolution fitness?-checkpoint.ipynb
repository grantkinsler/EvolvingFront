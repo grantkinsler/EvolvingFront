{
 "cells": [
  {
   "cell_type": "code",
   "execution_count": 1,
   "id": "1c2c6428",
   "metadata": {},
   "outputs": [],
   "source": [
    "import numpy as np\n",
    "import pandas as p\n",
    "import seaborn as sns\n",
    "import matplotlib.pyplot as plt\n",
    "from matplotlib import colors\n",
    "import matplotlib\n",
    "import scipy\n",
    "from scipy import stats\n",
    "# from adjustText import adjust_text\n",
    "from Bio import SeqIO\n",
    "from Bio.Seq import Seq\n",
    "%matplotlib inline\n",
    "\n",
    "import copy\n",
    "\n",
    "\n",
    "%load_ext autoreload\n",
    "%autoreload 2\n",
    "\n",
    "# import gzip\n",
    "# from cyvcf2 import VCF\n",
    "\n",
    "from matplotlib import gridspec\n",
    "from matplotlib.gridspec import GridSpec\n",
    "\n",
    "from itertools import combinations\n",
    "from itertools import combinations_with_replacement\n",
    "from itertools import permutations\n",
    "from ast import literal_eval\n",
    "\n",
    "import sys\n",
    "import os\n",
    "\n",
    "home_dir = '~/Documents/Stanford/Research/EvolvingFront/'\n",
    "home_dir = os.path.expanduser(home_dir)\n",
    "\n",
    "tools_path = f'{home_dir}/code/processing/tools/tools.py'\n",
    "sys.path.append(os.path.dirname(os.path.expanduser(tools_path)))\n",
    "import tools as tools\n",
    "\n",
    "sns.set_style('white')\n",
    "sns.set_style('ticks')\n",
    "sns.set_color_codes()\n",
    "\n"
   ]
  },
  {
   "cell_type": "markdown",
   "id": "559d0453",
   "metadata": {},
   "source": [
    "We observe that there are many more mutatations that improve respiration performance than improve fermentation performance in our experiments. While differences in mutation accessibility could be driving these differences, another difference could be a shift in the relative amount of each performance in the evolution condition. In particular, the parental strains with first-step mutations likely ferment faster than the ancestor, reducing the amount of fermentation phase and therefore reducing its influence on the fitness of mutants in this environment. \n",
    "\n",
    "To test if this is the case, we can compare mutants with similar fitnesses in the fitness remeasurments though achieving this by different means (either only respiration or both fermentation and respiration) and compare their fitnesses in the evolution condition."
   ]
  },
  {
   "cell_type": "code",
   "execution_count": null,
   "id": "7593a03f",
   "metadata": {},
   "outputs": [],
   "source": [
    "merged_fitness = p.read_csv(f'{home_dir}/data/fitness_withMutations.csv',index_col=0)\n",
    "\n",
    "conditions = ['Evo2D_Ira1_Mis_1','Evo2D_Ira1_Mis_2']\n",
    "\n",
    "evolution_fitness = p.read_csv(f'{home_dir}/EvolutionTracking/FitMut2_processing/out_fitmut1_thresholded/"
   ]
  }
 ],
 "metadata": {
  "kernelspec": {
   "display_name": "EvolvingFront-venv",
   "language": "python",
   "name": "evolvingfront-venv"
  },
  "language_info": {
   "codemirror_mode": {
    "name": "ipython",
    "version": 3
   },
   "file_extension": ".py",
   "mimetype": "text/x-python",
   "name": "python",
   "nbconvert_exporter": "python",
   "pygments_lexer": "ipython3",
   "version": "3.8.9"
  }
 },
 "nbformat": 4,
 "nbformat_minor": 5
}
