{
 "cells": [
  {
   "cell_type": "code",
   "execution_count": 1,
   "id": "1bb51fe5",
   "metadata": {},
   "outputs": [
    {
     "ename": "ModuleNotFoundError",
     "evalue": "No module named 'fitness_assay_grantedits'",
     "output_type": "error",
     "traceback": [
      "\u001b[0;31m---------------------------------------------------------------------------\u001b[0m",
      "\u001b[0;31mModuleNotFoundError\u001b[0m                       Traceback (most recent call last)",
      "\u001b[0;32m/var/folders/t0/s78ywp_n0sngtydd8db0z3_m0000gn/T/ipykernel_5352/1990846662.py\u001b[0m in \u001b[0;36m<module>\u001b[0;34m\u001b[0m\n\u001b[1;32m     24\u001b[0m \u001b[0matish_assay_path\u001b[0m \u001b[0;34m=\u001b[0m \u001b[0;34m'../code/fitness_assay_grantedits.py'\u001b[0m\u001b[0;34m\u001b[0m\u001b[0;34m\u001b[0m\u001b[0m\n\u001b[1;32m     25\u001b[0m \u001b[0msys\u001b[0m\u001b[0;34m.\u001b[0m\u001b[0mpath\u001b[0m\u001b[0;34m.\u001b[0m\u001b[0mappend\u001b[0m\u001b[0;34m(\u001b[0m\u001b[0mos\u001b[0m\u001b[0;34m.\u001b[0m\u001b[0mpath\u001b[0m\u001b[0;34m.\u001b[0m\u001b[0mdirname\u001b[0m\u001b[0;34m(\u001b[0m\u001b[0mos\u001b[0m\u001b[0;34m.\u001b[0m\u001b[0mpath\u001b[0m\u001b[0;34m.\u001b[0m\u001b[0mexpanduser\u001b[0m\u001b[0;34m(\u001b[0m\u001b[0matish_assay_path\u001b[0m\u001b[0;34m)\u001b[0m\u001b[0;34m)\u001b[0m\u001b[0;34m)\u001b[0m\u001b[0;34m\u001b[0m\u001b[0;34m\u001b[0m\u001b[0m\n\u001b[0;32m---> 26\u001b[0;31m \u001b[0;32mimport\u001b[0m \u001b[0mfitness_assay_grantedits\u001b[0m \u001b[0;32mas\u001b[0m \u001b[0matish\u001b[0m\u001b[0;34m\u001b[0m\u001b[0;34m\u001b[0m\u001b[0m\n\u001b[0m\u001b[1;32m     27\u001b[0m \u001b[0;34m\u001b[0m\u001b[0m\n\u001b[1;32m     28\u001b[0m \u001b[0mtools_path\u001b[0m \u001b[0;34m=\u001b[0m \u001b[0;34m'../code/tools.py'\u001b[0m\u001b[0;34m\u001b[0m\u001b[0;34m\u001b[0m\u001b[0m\n",
      "\u001b[0;31mModuleNotFoundError\u001b[0m: No module named 'fitness_assay_grantedits'"
     ]
    }
   ],
   "source": [
    "import matplotlib.pyplot as plt\n",
    "import pandas as p\n",
    "import seaborn as sns\n",
    "import numpy as np\n",
    "%matplotlib inline\n",
    "\n",
    "from scipy.stats import linregress\n",
    "from scipy.spatial import distance\n",
    "from matplotlib import colors\n",
    "from matplotlib import gridspec\n",
    "from matplotlib.gridspec import GridSpec\n",
    "import scipy\n",
    "import sys\n",
    "import os\n",
    "from matplotlib.backends.backend_pdf import PdfPages\n",
    "# from sklearn.decomposition import PCA\n",
    "from ast import literal_eval\n",
    "from Bio import SeqIO\n",
    "from itertools import combinations\n",
    "\n",
    "%load_ext autoreload\n",
    "%autoreload 2 \n",
    "\n",
    "atish_assay_path = '../code/fitness_assay_grantedits.py'\n",
    "sys.path.append(os.path.dirname(os.path.expanduser(atish_assay_path)))\n",
    "import fitness_assay_grantedits as atish\n",
    "\n",
    "tools_path = '../code/tools.py'\n",
    "sys.path.append(os.path.dirname(os.path.expanduser(tools_path)))\n",
    "import tools as tools\n",
    "\n",
    "import Levenshtein\n",
    "\n",
    "sns.set_color_codes()\n",
    "sns.set_style('white')\n",
    "sns.set_style('ticks')"
   ]
  },
  {
   "cell_type": "code",
   "execution_count": null,
   "id": "e48822f0",
   "metadata": {},
   "outputs": [],
   "source": [
    "conditions = ['Fit1D-2%','Fit1D-5%',\n",
    "              'Fit2D-2%','Fit2D-5%',\n",
    "              'Fit3D-2%','Fit3D-5%',\n",
    "              'Fit5D-2%','Fit5D-5%']\n",
    "\n",
    "# replicates = [1,2,3]\n",
    "replicates = {'Fit1D-2%':[1,2],\n",
    "              'Fit1D-5%':[1,2],\n",
    "              'Fit2D-2%':[1,2],\n",
    "              'Fit2D-5%':[1,2],\n",
    "              'Fit3D-2%':[1,2,3],\n",
    "              'Fit3D-5%':[1,2,3],\n",
    "              'Fit5D-2%':[1,2,3],\n",
    "              'Fit5D-5%':[1,2,3]}\n",
    "\n",
    "timepoints = {'Fit1D-2%':7,\n",
    "              'Fit1D-5%':7,\n",
    "              'Fit2D-2%':7,\n",
    "              'Fit2D-5%':7,\n",
    "              'Fit3D-2%':3,\n",
    "              'Fit3D-5%':3,\n",
    "              'Fit5D-2%':3,\n",
    "              'Fit5D-5%':3}"
   ]
  },
  {
   "cell_type": "code",
   "execution_count": null,
   "id": "5813ddfe",
   "metadata": {},
   "outputs": [],
   "source": []
  }
 ],
 "metadata": {
  "kernelspec": {
   "display_name": "Python 3",
   "language": "python",
   "name": "python3"
  },
  "language_info": {
   "codemirror_mode": {
    "name": "ipython",
    "version": 3
   },
   "file_extension": ".py",
   "mimetype": "text/x-python",
   "name": "python",
   "nbconvert_exporter": "python",
   "pygments_lexer": "ipython3",
   "version": "3.9.7"
  }
 },
 "nbformat": 4,
 "nbformat_minor": 5
}
