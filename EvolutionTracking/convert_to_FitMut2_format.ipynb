{
 "cells": [
  {
   "cell_type": "code",
   "execution_count": 1,
   "id": "c7823310",
   "metadata": {},
   "outputs": [],
   "source": [
    "import numpy as np\n",
    "import pandas as p"
   ]
  },
  {
   "cell_type": "code",
   "execution_count": 5,
   "id": "b522d0e6",
   "metadata": {},
   "outputs": [],
   "source": [
    "data_dir= 'FitMut2_processing/data/'\n",
    "fitmut2_out_dir = 'FitMut2_processing/out/'\n",
    "fitmut2_dir = 'FitMut2/'"
   ]
  },
  {
   "cell_type": "code",
   "execution_count": 6,
   "id": "0edb19bd",
   "metadata": {},
   "outputs": [],
   "source": [
    "condition_properties = {'Evo1D_IRAs':{1:[0,1,4,7,10,13,16,19,22,24],\n",
    "                                      2:[0,1,4,7,10,13,16,19,22,24]},\n",
    "                        'Evo1D_TCG':{1:[0,1,4,8,10,13,16,19,22,24],\n",
    "                                    2:[0,1,4,8,10,13,16,19,22,24]},\n",
    "                        \n",
    "                        'Evo2D_Ira1_Mis':{1:[0,1,4,7,10,13,17,21,25],\n",
    "                                         2:[0,1,4,7,10,13,17,21,25]},\n",
    "                        'Evo2D_Ira1_Non':{1:[0,1,4,7,10,13,17,21,25],\n",
    "                                         2:[0,1,4,7,10,13,17,21,25]},\n",
    "                        \n",
    "                        'Evo3D_Ira1_Mis':{1:[0,1,4,7,10,14,17,21],\n",
    "                                         2:[0,1,4,7,10,14,17,21],\n",
    "                                         3:[0,1,4,7,10,14,17,21]},\n",
    "                        'Evo3D_Ira1_Non':{1:[0,1,4,7,10,14,17,21],\n",
    "                                         2:[0,1,4,7,10,14,17,21],\n",
    "                                         3:[0,1,4,7,10,14,17,21]},\n",
    "                        \n",
    "#                         'Evo3D_TCG':{1:[0,1,4,7,10,14,17,21],\n",
    "#                                          2:[0,1,4,7,10,14,17,21]},               \n",
    "                       }\n",
    "\n",
    "\n",
    "n_gens = 8\n",
    "effective_n = 6 * 10**8 "
   ]
  },
  {
   "cell_type": "code",
   "execution_count": 8,
   "id": "04ef3f35",
   "metadata": {},
   "outputs": [
    {
     "name": "stdout",
     "output_type": "stream",
     "text": [
      "python3 FitMut2//main_code/fitmut2_run_v1.py -i FitMut2_processing/data/Evo1D_IRAs_1_counts.csv -t FitMut2_processing/data/Evo1D_IRAs_1_timepoints.csv -o FitMut2_processing/out//Evo1D_IRAs_1\n",
      "python3 FitMut2//main_code/fitmut2_run_v1.py -i FitMut2_processing/data/Evo1D_IRAs_2_counts.csv -t FitMut2_processing/data/Evo1D_IRAs_2_timepoints.csv -o FitMut2_processing/out//Evo1D_IRAs_2\n",
      "python3 FitMut2//main_code/fitmut2_run_v1.py -i FitMut2_processing/data/Evo1D_TCG_1_counts.csv -t FitMut2_processing/data/Evo1D_TCG_1_timepoints.csv -o FitMut2_processing/out//Evo1D_TCG_1\n",
      "python3 FitMut2//main_code/fitmut2_run_v1.py -i FitMut2_processing/data/Evo1D_TCG_2_counts.csv -t FitMut2_processing/data/Evo1D_TCG_2_timepoints.csv -o FitMut2_processing/out//Evo1D_TCG_2\n",
      "python3 FitMut2//main_code/fitmut2_run_v1.py -i FitMut2_processing/data/Evo2D_Ira1_Mis_1_counts.csv -t FitMut2_processing/data/Evo2D_Ira1_Mis_1_timepoints.csv -o FitMut2_processing/out//Evo2D_Ira1_Mis_1\n",
      "python3 FitMut2//main_code/fitmut2_run_v1.py -i FitMut2_processing/data/Evo2D_Ira1_Mis_2_counts.csv -t FitMut2_processing/data/Evo2D_Ira1_Mis_2_timepoints.csv -o FitMut2_processing/out//Evo2D_Ira1_Mis_2\n",
      "python3 FitMut2//main_code/fitmut2_run_v1.py -i FitMut2_processing/data/Evo2D_Ira1_Non_1_counts.csv -t FitMut2_processing/data/Evo2D_Ira1_Non_1_timepoints.csv -o FitMut2_processing/out//Evo2D_Ira1_Non_1\n",
      "python3 FitMut2//main_code/fitmut2_run_v1.py -i FitMut2_processing/data/Evo2D_Ira1_Non_2_counts.csv -t FitMut2_processing/data/Evo2D_Ira1_Non_2_timepoints.csv -o FitMut2_processing/out//Evo2D_Ira1_Non_2\n",
      "python3 FitMut2//main_code/fitmut2_run_v1.py -i FitMut2_processing/data/Evo3D_Ira1_Mis_1_counts.csv -t FitMut2_processing/data/Evo3D_Ira1_Mis_1_timepoints.csv -o FitMut2_processing/out//Evo3D_Ira1_Mis_1\n",
      "python3 FitMut2//main_code/fitmut2_run_v1.py -i FitMut2_processing/data/Evo3D_Ira1_Mis_2_counts.csv -t FitMut2_processing/data/Evo3D_Ira1_Mis_2_timepoints.csv -o FitMut2_processing/out//Evo3D_Ira1_Mis_2\n",
      "python3 FitMut2//main_code/fitmut2_run_v1.py -i FitMut2_processing/data/Evo3D_Ira1_Mis_3_counts.csv -t FitMut2_processing/data/Evo3D_Ira1_Mis_3_timepoints.csv -o FitMut2_processing/out//Evo3D_Ira1_Mis_3\n",
      "python3 FitMut2//main_code/fitmut2_run_v1.py -i FitMut2_processing/data/Evo3D_Ira1_Non_1_counts.csv -t FitMut2_processing/data/Evo3D_Ira1_Non_1_timepoints.csv -o FitMut2_processing/out//Evo3D_Ira1_Non_1\n",
      "python3 FitMut2//main_code/fitmut2_run_v1.py -i FitMut2_processing/data/Evo3D_Ira1_Non_2_counts.csv -t FitMut2_processing/data/Evo3D_Ira1_Non_2_timepoints.csv -o FitMut2_processing/out//Evo3D_Ira1_Non_2\n",
      "python3 FitMut2//main_code/fitmut2_run_v1.py -i FitMut2_processing/data/Evo3D_Ira1_Non_3_counts.csv -t FitMut2_processing/data/Evo3D_Ira1_Non_3_timepoints.csv -o FitMut2_processing/out//Evo3D_Ira1_Non_3\n"
     ]
    }
   ],
   "source": [
    "\n",
    "\n",
    "\n",
    "\n",
    "for condition,reps in condition_properties.items():\n",
    "    this_data = p.read_csv(f'{condition}_counts_curated.csv')\n",
    "    \n",
    "    for rep,timepoints in reps.items():\n",
    "        \n",
    "        all_samples = []\n",
    "        for time in timepoints:\n",
    "            if time == 0:\n",
    "                all_samples.append(f'{condition}_0_0_count')\n",
    "            else:\n",
    "                all_samples.append(f'{condition}_{rep}_{time}_count')\n",
    "    \n",
    "        pared_data = this_data[all_samples]\n",
    "        pared_data = pared_data.rename(columns={f'{all_samples[t]}':n_gens*timepoints[t] for t in range(len(timepoints))})\n",
    "#         pared_data = pared_data.rename(columns={'fused_bc':'BC'})\n",
    "\n",
    "        count_f = f'{data_dir}{condition}_{rep}_counts.csv'\n",
    "        timepoint_f = f'{data_dir}{condition}_{rep}_timepoints.csv'\n",
    "\n",
    "        pared_data.to_csv(f'{data_dir}{condition}_{rep}_counts.csv',index=False,header=False)\n",
    "        \n",
    "        \n",
    "        with open(f'{data_dir}{condition}_{rep}_timepoints.csv','w') as f:\n",
    "            for time in timepoints:\n",
    "                f.write(f'{time*n_gens},{effective_n}\\n')\n",
    "#         n_gens*timepoints[t] for t in range(len(timepoints))\n",
    "#         timepoints.to_csv(,index=False,header=False)\n",
    "        \n",
    "        \n",
    "        print(f'python3 {fitmut2_dir}/main_code/fitmut2_run_v1.py -i {count_f} -t {timepoint_f} -o {fitmut2_out_dir}/{condition}_{rep}')\n"
   ]
  },
  {
   "cell_type": "code",
   "execution_count": null,
   "id": "7b0f3f8e",
   "metadata": {},
   "outputs": [],
   "source": []
  }
 ],
 "metadata": {
  "kernelspec": {
   "display_name": "Python 3 (ipykernel)",
   "language": "python",
   "name": "python3"
  },
  "language_info": {
   "codemirror_mode": {
    "name": "ipython",
    "version": 3
   },
   "file_extension": ".py",
   "mimetype": "text/x-python",
   "name": "python",
   "nbconvert_exporter": "python",
   "pygments_lexer": "ipython3",
   "version": "3.8.9"
  }
 },
 "nbformat": 4,
 "nbformat_minor": 5
}
