{
 "cells": [
  {
   "cell_type": "code",
   "execution_count": 1,
   "id": "c7823310",
   "metadata": {},
   "outputs": [],
   "source": [
    "import numpy as np\n",
    "import pandas as p"
   ]
  },
  {
   "cell_type": "code",
   "execution_count": 23,
   "id": "b522d0e6",
   "metadata": {},
   "outputs": [],
   "source": [
    "out_directory = 'Mathematica_DFE_fromJamie/data/'"
   ]
  },
  {
   "cell_type": "code",
   "execution_count": 24,
   "id": "0edb19bd",
   "metadata": {},
   "outputs": [],
   "source": [
    "condition_properties = {'Evo1D_IRAs':{1:[0,1,4,7,10,13,16,19,22,24],\n",
    "                                      2:[0,1,4,7,10,13,16,19,22,24]},\n",
    "                        'Evo1D_TCG':{1:[0,1,4,8,10,13,16,19,22,24],\n",
    "                                    2:[0,1,4,8,10,13,16,19,22,24]},\n",
    "                        \n",
    "                        'Evo2D_Ira1_Mis':{1:[0,1,4,7,10,13,17,21,25],\n",
    "                                         2:[0,1,4,7,10,13,17,21,25]},\n",
    "                        'Evo2D_Ira1_Non':{1:[0,1,4,7,10,13,17,21,25],\n",
    "                                         2:[0,1,4,7,10,13,17,21,25]},\n",
    "                        \n",
    "                        'Evo3D_Ira1_Mis':{1:[0,1,4,7,10,14,17,21],\n",
    "                                         2:[0,1,4,7,10,14,17,21],\n",
    "                                         3:[0,1,4,7,10,14,17,21]},\n",
    "                        'Evo3D_Ira1_Non':{1:[0,1,4,7,10,14,17,21],\n",
    "                                         2:[0,1,4,7,10,14,17,21],\n",
    "                                         3:[0,1,4,7,10,14,17,21]},\n",
    "                        \n",
    "#                         'Evo3D_TCG':{1:[0,1,4,7,10,14,17,21],\n",
    "#                                          2:[0,1,4,7,10,14,17,21]},               \n",
    "                       }\n",
    "\n",
    "\n",
    "n_gens = 8"
   ]
  },
  {
   "cell_type": "code",
   "execution_count": 27,
   "id": "04ef3f35",
   "metadata": {},
   "outputs": [],
   "source": [
    "\n",
    "for condition,reps in condition_properties.items():\n",
    "    this_data = p.read_csv(f'{condition}_counts_curated.csv')\n",
    "    \n",
    "    for rep,timepoints in reps.items():\n",
    "        \n",
    "        all_samples = []\n",
    "        for time in timepoints:\n",
    "            if time == 0:\n",
    "                all_samples.append(f'{condition}_0_0_count')\n",
    "            else:\n",
    "                all_samples.append(f'{condition}_{rep}_{time}_count')\n",
    "    \n",
    "        pared_data = this_data[['fused_bc']+all_samples]\n",
    "        pared_data = pared_data.rename(columns={f'{all_samples[t]}':n_gens*timepoints[t] for t in range(len(timepoints))})\n",
    "        pared_data = pared_data.rename(columns={'fused_bc':'BC'})\n",
    "\n",
    "        pared_data.to_csv(f'{out_directory}{condition}_{rep}_counts.txt',sep='\\t',index=False)"
   ]
  },
  {
   "cell_type": "code",
   "execution_count": null,
   "id": "7b0f3f8e",
   "metadata": {},
   "outputs": [],
   "source": []
  }
 ],
 "metadata": {
  "kernelspec": {
   "display_name": "Python 3",
   "language": "python",
   "name": "python3"
  },
  "language_info": {
   "codemirror_mode": {
    "name": "ipython",
    "version": 3
   },
   "file_extension": ".py",
   "mimetype": "text/x-python",
   "name": "python",
   "nbconvert_exporter": "python",
   "pygments_lexer": "ipython3",
   "version": "3.9.7"
  }
 },
 "nbformat": 4,
 "nbformat_minor": 5
}
